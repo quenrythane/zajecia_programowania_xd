{
 "cells": [
  {
   "cell_type": "markdown",
   "id": "6e08da87",
   "metadata": {},
   "source": [
    "# 008 - listy\n",
    "\n",
    "Abc.\n",
    "\n",
    "### Spis treści:\n",
    "1. O kontenerach danych\n",
    "2. Listy\n",
    "3. Tworzenie listy\n",
    "4. Indeksy \n",
    "5. Metody list - główne\n",
    "6. Metody listy - pozostałe\n",
    "7. Level 2\n",
    "8. Level 3"
   ]
  },
  {
   "cell_type": "markdown",
   "id": "48aa144d",
   "metadata": {},
   "source": [
    "## Lista\n",
    "\n",
    "#### Lista, zwłaszcza w porównaniu z pętlą to jeden z piękniejszych elementów pythona.\n",
    "\n",
    "\n",
    "Najlepiej wykorzystasz te materiały odpalając i modyfikując wszystkie komórki z kodem. Do tego - powtórz materiał kilka razy. Przez jakiś czas wracaj tutaj, np. co dzień albo co tydzień aby rzucić okiem, \n",
    "tak najpewniej utrwalisz wiedzę.\n",
    "\n",
    "Pamiętam, że kiedy uczyłem się programowania, starałem się zawsze mieć przy sobie kartkę\n",
    "z notatkami, taką jak ta, aby móc w wolnej chwili rzucić okiem i\n",
    "sobie powtórzyć takie rzeczy. Polecam.\n",
    "\n",
    "Poziomy.\n",
    "\n",
    "Ten plik jest podzielony na kilka poziomów. \n",
    "Możesz przeczytać cały opis danego tematu za 1 razem albo\n",
    "nauczyć sie tego co najbardziej istotnie i po zaawansowany materiał\n",
    "wrócić tu później."
   ]
  },
  {
   "cell_type": "markdown",
   "id": "809f6574",
   "metadata": {},
   "source": [
    "#### Tworzenie listy (pustej)"
   ]
  },
  {
   "cell_type": "code",
   "execution_count": 18,
   "id": "3eb80e4c",
   "metadata": {},
   "outputs": [],
   "source": [
    "lista = list() # Pusta lista.\n",
    "lista = [] # Też pusta lista."
   ]
  },
  {
   "cell_type": "markdown",
   "id": "04349f5d",
   "metadata": {},
   "source": [
    "#### Tworzenie listy (pełnej)"
   ]
  },
  {
   "cell_type": "code",
   "execution_count": null,
   "id": "765f3c08",
   "metadata": {},
   "outputs": [],
   "source": [
    "lista = [1] # Lista z 1 elementem typu integer.\n",
    "lista = [1,2,3] # Lista z 3 elementami typu integer.\n",
    "lista = ['a', 1, True] # Lista z 3 elementami różnego typu."
   ]
  },
  {
   "cell_type": "markdown",
   "id": "59ce632c",
   "metadata": {},
   "source": [
    "#### Lista jest typu 'list'."
   ]
  },
  {
   "cell_type": "markdown",
   "id": "4aeaa1b8",
   "metadata": {},
   "source": [
    "#### Inne podstawowe funkcje używane na liście:"
   ]
  },
  {
   "cell_type": "code",
   "execution_count": 21,
   "id": "5efd4910",
   "metadata": {},
   "outputs": [
    {
     "name": "stdout",
     "output_type": "stream",
     "text": [
      "Długość listy (ile elementów): len(lista): 5\n",
      "Minimalny element listy:       min(lista): 1\n",
      "Maxymalny element listy:       max(lista): 5\n"
     ]
    }
   ],
   "source": [
    "lista = [1,2,3,4,5]\n",
    "\n",
    "dlugosc_listy = len(lista)\n",
    "najwiekszy_element = max(lista)\n",
    "najmniejszy_element = min(lista)\n",
    "\n",
    "print('Długość listy (ile elementów): len(lista):', dlugosc_listy)\n",
    "print('Minimalny element listy:       min(lista):', najmniejszy_element)\n",
    "print('Maxymalny element listy:       max(lista):', najwiekszy_element)"
   ]
  },
  {
   "cell_type": "markdown",
   "id": "d92dba2a",
   "metadata": {},
   "source": [
    "#### Zamiana listy na tuple i spowrotem\n",
    "\n",
    "Aby zamienić tuple (czy set, frozenset albo inny podobny obiekt) będący pewnego rodzaju"
   ]
  },
  {
   "cell_type": "code",
   "execution_count": null,
   "id": "34eb94cc",
   "metadata": {},
   "outputs": [],
   "source": [
    "tupla = ('a', 'b', 'c')\n",
    "print('Tupla:', tupla, type(tupla))\n",
    "\n",
    "lista = list(tupla)\n",
    "print('Lista', lista, type(lista))\n",
    "\n",
    "tupla = tuple(lista)\n",
    "print('Tupla:', tupla, type(tupla))"
   ]
  },
  {
   "cell_type": "markdown",
   "id": "8274801a",
   "metadata": {},
   "source": [
    "#### Zamiana listy na tuple i spowrotem\n",
    "\n",
    "Abc"
   ]
  },
  {
   "cell_type": "markdown",
   "id": "8d0e5527",
   "metadata": {},
   "source": [
    "Narazie nie będziemy o tym wiele mówić, ale to jest tupla. Wygląda bardzo podbonie do listy i tak też działa. Zobaczy typ. To już nie lista ale tupla, ma okrągłe nawiasy."
   ]
  },
  {
   "cell_type": "code",
   "execution_count": null,
   "id": "59587492",
   "metadata": {},
   "outputs": [],
   "source": [
    "#tuple()\tReturns a tuple\n",
    "#Python Tuple count()\n",
    "#returns count of the element in the tuple\n",
    "#Python Tuple index()\n",
    "#returns the index of the element in the tuple"
   ]
  },
  {
   "cell_type": "markdown",
   "id": "2d9c7aa5",
   "metadata": {},
   "source": [
    "#### Set\n",
    "\n",
    "https://bigdata-madesimple.com/introduction-to-python-set-and-frozenset-methods/\n",
    "\n",
    "- frozenset()\tReturns a frozenset object\n",
    "- set()\tReturns a new set object"
   ]
  },
  {
   "cell_type": "markdown",
   "id": "16a4c3ef",
   "metadata": {},
   "source": [
    "#### Najważniejsze metody list.\n",
    "\n",
    "Lista posiada kilka wbudowanych metod. Z tych korzysta się najcześciej:"
   ]
  },
  {
   "cell_type": "markdown",
   "id": "524e00ea",
   "metadata": {},
   "source": [
    "#### Pozostałem metody list\n",
    "\n",
    "Lista posiada też kilka rzadziej używanych metod wbudowanych:"
   ]
  },
  {
   "cell_type": "code",
   "execution_count": null,
   "id": "8af9d074",
   "metadata": {},
   "outputs": [],
   "source": [
    "# add()\tAdds an element to the set\n",
    "# clear()\tRemoves all the elements from the set\n",
    "# copy()\tReturns a copy of the set\n",
    "# difference()\tReturns a set containing the difference between two or more sets\n",
    "# difference_update()\tRemoves the items in this set that are also included in another, specified set\n",
    "# discard()\tRemove the specified item\n",
    "# intersection()\tReturns a set, that is the intersection of two or more sets\n",
    "# intersection_update()\tRemoves the items in this set that are not present in other, specified set(s)\n",
    "# isdisjoint()\tReturns whether two sets have a intersection or not\n",
    "# issubset()\tReturns whether another set contains this set or not\n",
    "# issuperset()\tReturns whether this set contains another set or not\n",
    "# pop()\tRemoves an element from the set\n",
    "# remove()\tRemoves the specified element\n",
    "# symmetric_difference()\tReturns a set with the symmetric differences of two sets\n",
    "# symmetric_difference_update()\tinserts the symmetric differences from this set and another\n",
    "# union()\tReturn a set containing the union of sets\n",
    "# update()\tUpdate the set with another set, or any other iterable"
   ]
  },
  {
   "cell_type": "markdown",
   "id": "31db5873",
   "metadata": {},
   "source": [
    "#### Mutowalność / niemutowalonść\n",
    "\n",
    "Pomądrz się tutaj."
   ]
  },
  {
   "cell_type": "markdown",
   "id": "276d668c",
   "metadata": {},
   "source": [
    "\n",
    "# INDEKSY:\n",
    "\n",
    "Indexy to podstawa pythona dla list ale i ciągów znaków (stringów).\n",
    "\n",
    "### Co warto wiedzieć:\n",
    "- indeks to zawsze pełna liczba; 1, 3 czy 20 ale nigdy 20.1 ani 20.0.\n",
    "- indexy zaczynają się od 0 a nie od 1. Czyli index 1-szego elementu to 0. Drugi element oznaczamy 1-ką. I tak do końca."
   ]
  },
  {
   "cell_type": "markdown",
   "id": "902c6171",
   "metadata": {},
   "source": [
    "#### Możemy wyciągnąć element z listy znajac jego indeks.\n",
    "\n",
    "Pobaw sie indeksem. Wstw tam 1, 4, 10 i patrz jak zmienia się wartość wybranego elementu listy. To co robisz, to mówisz programowi który z elementów listy Cię interesuje. Jeżeli wybierasz 4ty to wyświetlany jest 4 element. I tak dalej. Zobacz samemu:"
   ]
  },
  {
   "cell_type": "code",
   "execution_count": 46,
   "id": "6e4b4928",
   "metadata": {},
   "outputs": [
    {
     "name": "stdout",
     "output_type": "stream",
     "text": [
      "Wybrany element z listy: d\n"
     ]
    }
   ],
   "source": [
    "lista = ['a','b','c','d','e','f','g','h','i','j']\n",
    "\n",
    "indeks = 3\n",
    "element_listy = lista[indeks]\n",
    "print('Wybrany element z listy:', element_listy)"
   ]
  },
  {
   "cell_type": "markdown",
   "id": "4740f077",
   "metadata": {},
   "source": [
    "#### To samo, praktyczniej:\n",
    "\n",
    "Zwykle indeks wstawiamy jednak nie jako zmienną a po prostu jako liczbę w kwadratowych nawiasach po prawej stronie listy."
   ]
  },
  {
   "cell_type": "code",
   "execution_count": null,
   "id": "602993bf",
   "metadata": {},
   "outputs": [],
   "source": [
    "lista = ['a','b','c','d','e','f','g','h','i','j']\n",
    "\n",
    "element_listy = lista[3]\n",
    "print('Wybrany element z listy:', element_listy)"
   ]
  },
  {
   "cell_type": "markdown",
   "id": "1927b619",
   "metadata": {},
   "source": [
    "#### Możemy wyciągnąć pierwszy lub ostatni element.\n",
    "\n"
   ]
  },
  {
   "cell_type": "code",
   "execution_count": 50,
   "id": "1e11843d",
   "metadata": {},
   "outputs": [
    {
     "name": "stdout",
     "output_type": "stream",
     "text": [
      "Pierwszy element listy: a\n",
      "Ostatni element listy: j\n"
     ]
    }
   ],
   "source": [
    "lista = ['a','b','c','d','e','f','g','h','i','j']\n",
    "\n",
    "pierwszy_element = lista[0]\n",
    "ostatni_element = lista[-1]\n",
    "\n",
    "print('Pierwszy element listy:', pierwszy_element)\n",
    "print('Ostatni element listy:', ostatni_element)"
   ]
  },
  {
   "cell_type": "markdown",
   "id": "4ed8103d",
   "metadata": {},
   "source": [
    "#### Możemy wyciągnąć zakres elementów z listy.\n",
    "\n",
    "Aby wybrać fragment listy \"od\" - \"do\": podaj zakres. Np. elementy od drugiego do czwartego. Albo jeszcze inaczej, spróbuj samemu:"
   ]
  },
  {
   "cell_type": "code",
   "execution_count": 54,
   "id": "11208f61",
   "metadata": {
    "scrolled": true
   },
   "outputs": [
    {
     "name": "stdout",
     "output_type": "stream",
     "text": [
      "Zakres: 2 4\n",
      "Elementy listy w zakresie: ['c', 'd']\n"
     ]
    }
   ],
   "source": [
    "lista = ['a','b','c','d','e','f','g','h','i','j']\n",
    "pierwszy_element = 2\n",
    "ostatni_element = 4\n",
    "\n",
    "zakres = lista[pierwszy_element:ostatni_element]\n",
    "\n",
    "print('Zakres:',pierwszy_element,ostatni_element)\n",
    "print('Elementy listy w zakresie:', zakres)"
   ]
  },
  {
   "cell_type": "markdown",
   "id": "683ba603",
   "metadata": {},
   "source": [
    "#### To samo, praktyczniej:\n",
    "\n",
    "Zwykle indeks wstawiamy jednak nie jako zmienną a po prostu jako liczbę w kwadratowych nawiasach po prawej stronie listy. Pozmieniaj indeksy w zakresie w 3 linii poniżej."
   ]
  },
  {
   "cell_type": "code",
   "execution_count": 56,
   "id": "a14cbe2a",
   "metadata": {},
   "outputs": [
    {
     "name": "stdout",
     "output_type": "stream",
     "text": [
      "Elementy listy w zakresie: ['c', 'd']\n"
     ]
    }
   ],
   "source": [
    "lista = ['a','b','c','d','e','f','g','h','i','j']\n",
    "\n",
    "zakres = lista[2:4]\n",
    "print('Elementy listy w zakresie:', zakres)"
   ]
  },
  {
   "cell_type": "markdown",
   "id": "ca463a5b",
   "metadata": {},
   "source": [
    "#### Listę można obrócić stosując trzecią wartość:"
   ]
  },
  {
   "cell_type": "code",
   "execution_count": 59,
   "id": "1b6429c8",
   "metadata": {},
   "outputs": [
    {
     "name": "stdout",
     "output_type": "stream",
     "text": [
      "Lista przed odwróceniem: ['a', 'b', 'c', 'd', 'e', 'f', 'g', 'h', 'i', 'j']\n",
      "Lista po odwróceniu: ['j', 'i', 'h', 'g', 'f', 'e', 'd', 'c', 'b', 'a']\n"
     ]
    }
   ],
   "source": [
    "lista = ['a','b','c','d','e','f','g','h','i','j']\n",
    "print('Lista przed odwróceniem:', lista)\n",
    "\n",
    "lista = lista[::-1]\n",
    "print('Lista po odwróceniu:', lista)"
   ]
  },
  {
   "cell_type": "markdown",
   "id": "f9c0f15f",
   "metadata": {},
   "source": [
    "#### Indeks z dodatkowym parametrem\n",
    "\n",
    "Z uwagi na nieintuicyjny index, czasem używa się korektora:\n",
    "\n",
    "Dzięki czemu index 1 faktycznie wskazuje na 1 wartość w liście.\n",
    "\n",
    "Usuń korektor (zostaw poniżej sam [index] zamiast [index-1]) aby zobaczyć o co chodzi:"
   ]
  },
  {
   "cell_type": "code",
   "execution_count": 76,
   "id": "c140e1ac",
   "metadata": {},
   "outputs": [
    {
     "name": "stdout",
     "output_type": "stream",
     "text": [
      "1\n",
      "\n"
     ]
    }
   ],
   "source": [
    "index = 1\n",
    "lista = [1, 2, 3]\n",
    "print(lista[index-1])\n",
    "print()"
   ]
  },
  {
   "cell_type": "markdown",
   "id": "05272b5d",
   "metadata": {},
   "source": [
    "#### Zmiana elementu w liście przez index.\n",
    "\n",
    "Spraw aby określony element w liście zmienił wartość. Pobaw się poniższym kodem. Pozmieniaj zarówno indeks w liście (liczba w kwadratowych nawiasach :) jak i wartość którą przypisujesz mu po lewej stronie.\n",
    "\n",
    "- lista[1] - dotyka elementu o indeksie 1 w liście list.\n",
    "\n",
    "Zmień indeks w 4 linii na jeden mniejsz lub większy (0 lub 2) i zobacz co się stanie."
   ]
  },
  {
   "cell_type": "code",
   "execution_count": 99,
   "id": "fd208166",
   "metadata": {},
   "outputs": [
    {
     "name": "stdout",
     "output_type": "stream",
     "text": [
      "Lista przed zmianą wartości jednego z elementów [1, 2, 3]\n",
      "Lista po zmianie wartości jednego z elementów   [1, 'xD', 3]\n",
      "\n"
     ]
    }
   ],
   "source": [
    "lista = [1, 2, 3]\n",
    "print('Lista przed zmianą wartości jednego z elementów', lista)\n",
    "\n",
    "lista[1] = 'xD'\n",
    "print('Lista po zmianie wartości jednego z elementów  ', lista)\n",
    "print()"
   ]
  },
  {
   "cell_type": "markdown",
   "id": "801ceab6",
   "metadata": {},
   "source": [
    "#### Usunięcie elementu w liście przez indks.\n",
    "\n",
    "- lista[0] - dotyka elementu o indeksie 0 w liście list.\n",
    "\n",
    "Zmień indeks w 4 linii na większy (1 lub 2) i zobacz co się stanie."
   ]
  },
  {
   "cell_type": "code",
   "execution_count": 1,
   "id": "7a4def64",
   "metadata": {},
   "outputs": [
    {
     "name": "stdout",
     "output_type": "stream",
     "text": [
      "[1, 2, 3]\n",
      "[2, 3]\n",
      "\n"
     ]
    }
   ],
   "source": [
    "lista = [1, 2, 3]\n",
    "print(lista)\n",
    "\n",
    "del lista[0]\n",
    "print(lista)\n",
    "print()"
   ]
  },
  {
   "cell_type": "markdown",
   "id": "6a7cd064",
   "metadata": {},
   "source": [
    "#### Dodawanie do siebie list:\n",
    "\n",
    "Dodasz obie listy albo po prostu znakiem plus:"
   ]
  },
  {
   "cell_type": "code",
   "execution_count": 12,
   "id": "33995990",
   "metadata": {},
   "outputs": [
    {
     "name": "stdout",
     "output_type": "stream",
     "text": [
      "[1, 2, 3, 4]\n",
      "\n"
     ]
    }
   ],
   "source": [
    "lista_a = [1,2]\n",
    "lista_b = [3,4]\n",
    "lista_c = lista_a + lista_b\n",
    "print(lista_c)\n",
    "print()"
   ]
  },
  {
   "cell_type": "markdown",
   "id": "cce8ac3d",
   "metadata": {},
   "source": [
    "albo używając metody **extend()** (przedłuż listę):"
   ]
  },
  {
   "cell_type": "code",
   "execution_count": 14,
   "id": "ea546d99",
   "metadata": {
    "scrolled": true
   },
   "outputs": [
    {
     "name": "stdout",
     "output_type": "stream",
     "text": [
      "[1, 2, 3, 4, 5, 6, 5, 6]\n"
     ]
    }
   ],
   "source": [
    "lista_d = [5,6]\n",
    "lista_c.extend(lista_d)\n",
    "print(lista_c)"
   ]
  },
  {
   "cell_type": "code",
   "execution_count": 5,
   "id": "57d9c5aa",
   "metadata": {},
   "outputs": [
    {
     "name": "stdout",
     "output_type": "stream",
     "text": [
      "None\n"
     ]
    }
   ],
   "source": [
    "a = ['a','b']\n",
    "b = [1, 2]\n",
    "c = a.append(b)\n",
    "print(c)"
   ]
  },
  {
   "cell_type": "markdown",
   "id": "2797c492",
   "metadata": {},
   "source": [
    "#### Dodawanie do siebie list przez plus:"
   ]
  },
  {
   "cell_type": "code",
   "execution_count": 16,
   "id": "f367461d",
   "metadata": {},
   "outputs": [
    {
     "name": "stdout",
     "output_type": "stream",
     "text": [
      "[1, 2]\n",
      "[1, 2, 5, 6]\n"
     ]
    }
   ],
   "source": [
    "lista_a = [1, 2]\n",
    "print(lista_a)\n",
    "\n",
    "lista_b = [5, 6]\n",
    "lista_a.extend(lista_b)\n",
    "print(lista_a)"
   ]
  },
  {
   "cell_type": "markdown",
   "id": "09d68d32",
   "metadata": {},
   "source": [
    "#### Mnożenie elementów w liscie:"
   ]
  },
  {
   "cell_type": "code",
   "execution_count": 17,
   "id": "b99281ce",
   "metadata": {},
   "outputs": [
    {
     "name": "stdout",
     "output_type": "stream",
     "text": [
      "['a', 'b']\n",
      "['a', 'b', 'a', 'b', 'a', 'b']\n"
     ]
    }
   ],
   "source": [
    "lista = ['a', 'b']\n",
    "print(lista)\n",
    "\n",
    "lista = lista * 3\n",
    "print(lista)"
   ]
  },
  {
   "cell_type": "markdown",
   "id": "7aa1b32a",
   "metadata": {},
   "source": [
    "#### Dołączanie nowych elementów (zawsze do końca) listy:\n",
    "\n"
   ]
  },
  {
   "cell_type": "code",
   "execution_count": 5,
   "id": "00c66b58",
   "metadata": {},
   "outputs": [
    {
     "name": "stdout",
     "output_type": "stream",
     "text": [
      "Lista przed lista.append(3): [1, 2]\n",
      "Lista po lista.append(3): [1, 2, 3]\n",
      "\n"
     ]
    }
   ],
   "source": [
    "lista = [1, 2]\n",
    "print('Lista przed lista.append(3):', lista)\n",
    "lista.append(3)\n",
    "print('Lista po lista.append(3):', lista)\n",
    "print()"
   ]
  },
  {
   "cell_type": "code",
   "execution_count": null,
   "id": "72a50c05",
   "metadata": {},
   "outputs": [],
   "source": [
    "lista = ['a', 'b', 'c']"
   ]
  },
  {
   "cell_type": "markdown",
   "id": "a0039378",
   "metadata": {},
   "source": [
    "#### Zamiana listy w string (ciąg znaków) połączony znakiem między apostrofami:"
   ]
  },
  {
   "cell_type": "code",
   "execution_count": null,
   "id": "8478d439",
   "metadata": {},
   "outputs": [],
   "source": [
    "ciag_znakow_a = ''.join(lista) # wstawi nic pomiędzy każdy element listy.\n",
    "print(ciag_znakow_a)\n",
    "ciag_znakow_b = '-xD-'.join(lista) # wstawi -xD- pomiędzy każdy element listy.\n",
    "print(ciag_znakow_b)\n",
    "print()"
   ]
  },
  {
   "cell_type": "markdown",
   "id": "832ab3a0",
   "metadata": {},
   "source": [
    "#### Zamiana listy w string (ciąg znaków) połączony znakiem między \n",
    "\n",
    "\n",
    "#### Apostrofami\n",
    "\n",
    "Wyczyść listę\n",
    "\n",
    "#### Usuń wszystkie elementy z listy: lista.clear():"
   ]
  },
  {
   "cell_type": "code",
   "execution_count": 90,
   "id": "7cc962bb",
   "metadata": {},
   "outputs": [
    {
     "name": "stdout",
     "output_type": "stream",
     "text": [
      "Lista przed lista.clear() [1, 2, 3]\n",
      "Lista po lista.clear()    []\n"
     ]
    }
   ],
   "source": [
    "lista = [1,2,3]\n",
    "print('Lista przed lista.clear()', lista)\n",
    "\n",
    "lista.clear()\n",
    "print('Lista po lista.clear()   ', lista)"
   ]
  },
  {
   "cell_type": "markdown",
   "id": "91ca0584",
   "metadata": {},
   "source": [
    "Można też szybciej"
   ]
  },
  {
   "cell_type": "code",
   "execution_count": 91,
   "id": "a258056b",
   "metadata": {},
   "outputs": [
    {
     "name": "stdout",
     "output_type": "stream",
     "text": [
      "Lista przed zmianą wartości: [1, 2, 3]\n",
      "Lista po zmianie wartości: []\n"
     ]
    }
   ],
   "source": [
    "lista = [1,2,3]\n",
    "print('Lista przed zmianą wartości:', lista)\n",
    "\n",
    "lista = []\n",
    "print('Lista po zmianie wartości:', lista)"
   ]
  },
  {
   "cell_type": "markdown",
   "id": "9fb1cda5",
   "metadata": {},
   "source": [
    "#### Policz elementy w liście.\n",
    "\n",
    "Do count'a jako arument przekaż dowolny element obecny (lub nie) w liście. Policzysz ile razy wysŧępuje. Np. używając lista.count(\"b\") zobaczymy, że \"b\" liście ['a', 'b', 'b', 'b', 'b', 'c'] występuje 4 razy. Sprawdź dla \"`a`\"."
   ]
  },
  {
   "cell_type": "code",
   "execution_count": 93,
   "id": "b75be616",
   "metadata": {},
   "outputs": [
    {
     "name": "stdout",
     "output_type": "stream",
     "text": [
      "Liczba podanych elementów: 4\n"
     ]
    }
   ],
   "source": [
    "lista = ['a', 'b', 'b', 'b', 'b', 'c']\n",
    "\n",
    "n_b = lista.count('b')\n",
    "print('Liczba podanych elementów:', n_b)\n"
   ]
  },
  {
   "cell_type": "markdown",
   "id": "6b771ed8",
   "metadata": {},
   "source": [
    "#### Sprawdź indeks dowolnego elementu w liście.\n",
    "\n",
    "Abc."
   ]
  },
  {
   "cell_type": "code",
   "execution_count": 94,
   "id": "7354040f",
   "metadata": {},
   "outputs": [
    {
     "name": "stdout",
     "output_type": "stream",
     "text": [
      "Używając lista.index(\"b\") sprawdzimy, że b w liście ['a', 'b', 'c'] jest na indexie: 1\n"
     ]
    }
   ],
   "source": [
    "lista = ['a', 'b', 'c']\n",
    "i = lista.index('b')\n",
    "\n",
    "print('Używając lista.index(\"b\") sprawdzimy, że b w liście', lista, 'jest na indexie:',i)"
   ]
  },
  {
   "cell_type": "markdown",
   "id": "b2367fe3",
   "metadata": {},
   "source": [
    "#### Wyciągnij element z określonego indeksu.\n",
    "\n",
    "Abc."
   ]
  },
  {
   "cell_type": "code",
   "execution_count": null,
   "id": "0549988b",
   "metadata": {},
   "outputs": [],
   "source": [
    "lista = [1,2,3,4,5]\n",
    "wyciagamy_elemnt_z_indeksu = 3\n",
    "print('Lista przed użyciem lista.pop( 3):', lista)\n",
    "element = lista.pop( wyciagamy_elemnt_z_indeksu)\n",
    "print('Lista    po  użyciu lista.pop( 3):', lista, 'i wyciągnięty element:', element)\n",
    "pierwszy_element = lista.pop()\n",
    "print('Lista jeszcze krótsza bo po użyciu jeszcze dalej pustego .pop() który wyciąga zawsze pierwszy element:', lista, 'a ten element to', pierwszy_element)\n",
    "print()"
   ]
  },
  {
   "cell_type": "markdown",
   "id": "ecc9ee9a",
   "metadata": {},
   "source": [
    "#### Posortuj elementy w liscie.\n",
    "\n",
    "Sortowanie to inaczej układanie elementów w kolejności jeden po drugim. Alfabetycznie, od elementów zaczynających się na literę A do tych które kończą się na literę Z."
   ]
  },
  {
   "cell_type": "markdown",
   "id": "d47efc7e",
   "metadata": {},
   "source": [
    "Pierwszy sposób:"
   ]
  },
  {
   "cell_type": "code",
   "execution_count": null,
   "id": "931f890e",
   "metadata": {},
   "outputs": [],
   "source": [
    "lista = ['a', 'b', 'b', 'b', 'c']\n",
    "print('Lista nieuporządkowana:', lista)\n",
    "lista = lista.sort()\n",
    "print('Lista    uporządkowana:', lista)\n",
    "lista = [3, 2, 6, 1, 3]\n",
    "print('Lista nieuporządkowana:', lista)\n",
    "lista = lista.sort()\n",
    "print('Lista    uporządkowana:', lista)\n",
    "print()"
   ]
  },
  {
   "cell_type": "markdown",
   "id": "4632ba9c",
   "metadata": {},
   "source": [
    "Sortowanie listy - drugi sposób."
   ]
  },
  {
   "cell_type": "code",
   "execution_count": 39,
   "id": "d4dcb30b",
   "metadata": {},
   "outputs": [
    {
     "data": {
      "text/plain": [
       "[1, 2, 3, 3, 6]"
      ]
     },
     "execution_count": 39,
     "metadata": {},
     "output_type": "execute_result"
    }
   ],
   "source": [
    "lista = [3, 2, 6, 1, 3]\n",
    "print(lista)\n",
    "\n",
    "lista = sorted(lista)\n",
    "print(lista)"
   ]
  },
  {
   "cell_type": "markdown",
   "id": "cf58cdf3",
   "metadata": {},
   "source": [
    "#### Skopiuj listę. Tutaj jest jeszcze jeden feler."
   ]
  },
  {
   "cell_type": "code",
   "execution_count": 40,
   "id": "43f600f6",
   "metadata": {},
   "outputs": [
    {
     "name": "stdout",
     "output_type": "stream",
     "text": [
      "[3, 2, 6, 1, 3]\n",
      "[3, 2, 6, 1, 3]\n",
      "\n",
      "Lista list: [['a', 1], ['b', 2]]\n"
     ]
    }
   ],
   "source": [
    "lista = [3, 2, 6, 1, 3]\n",
    "print(lista)\n",
    "lista2 = lista.copy()\n",
    "print(lista2)\n",
    "print()\n",
    "\n",
    "lista = [['a', 1], ['b',2]]\n",
    "print('Lista list:', lista)"
   ]
  },
  {
   "cell_type": "markdown",
   "id": "440be012",
   "metadata": {},
   "source": [
    "#### Lista może zawierać w sobie listy. Tzw. lista list."
   ]
  },
  {
   "cell_type": "code",
   "execution_count": 10,
   "id": "ec3d281e",
   "metadata": {},
   "outputs": [
    {
     "name": "stdout",
     "output_type": "stream",
     "text": [
      "Lista list: [['a', 1], ['b', 2]]\n"
     ]
    }
   ],
   "source": [
    "lista = [['a', 1], ['b',2]]\n",
    "print('Lista list:', lista)"
   ]
  },
  {
   "cell_type": "markdown",
   "id": "77c66309",
   "metadata": {},
   "source": [
    "#### Wtedy możemy operować podwójnym indeksem aby dostać się do wartości:"
   ]
  },
  {
   "cell_type": "raw",
   "id": "796bcc79",
   "metadata": {},
   "source": [
    "x = lista[0][0]\n",
    "y = lista[0][1]\n",
    "print('Lista list - wyciągam 1 liste:', lista[0])\n",
    "print('Lista list - wyciągam 1 element z 1 listy:', lista[0][0])\n",
    "print('Lista list - wyciągam 2 element z 1 listy:', lista[0][1])\n"
   ]
  },
  {
   "cell_type": "markdown",
   "id": "4279e126",
   "metadata": {},
   "source": [
    "#### Użycie bool na listach:\n",
    "\n",
    "Prawda gdy wszystkie elementy są prawdziwe."
   ]
  },
  {
   "cell_type": "code",
   "execution_count": 12,
   "id": "69fb6d6e",
   "metadata": {},
   "outputs": [
    {
     "name": "stdout",
     "output_type": "stream",
     "text": [
      "Rezultat funkcji all(x): True\n",
      "Wszystkie elementy x są prawdziwe (True).\n"
     ]
    }
   ],
   "source": [
    "x = [True, True, True] # To jest lista z 3 wartościami, nie przejmuj się tym narazie.\n",
    "if all(x):\n",
    "    print('Rezultat funkcji all(x):', all(x))\n",
    "    print('Wszystkie elementy x są prawdziwe (True).')"
   ]
  },
  {
   "cell_type": "markdown",
   "id": "08ef9765",
   "metadata": {},
   "source": [
    "#### Prawda gdy conajmniej 1 element jest prawdziwy.\n",
    "\n",
    "Zmień jeden element na False. Warunek nie zadziała."
   ]
  },
  {
   "cell_type": "code",
   "execution_count": null,
   "id": "f8d0100e",
   "metadata": {},
   "outputs": [],
   "source": [
    "x = [True, True, False]\n",
    "if all(x):\n",
    "    print('Rezultat funkcji all(x):', all(x))\n",
    "if any(x):\n",
    "    print('Rezultat funkcji any(x):', any(x))\n",
    "    print('Conajmniej 1 element x jest prawdziwy (True).')"
   ]
  },
  {
   "cell_type": "markdown",
   "id": "413f8f98",
   "metadata": {},
   "source": [
    "#### Dalsze zagadnienia wykorzystujące listy:"
   ]
  },
  {
   "cell_type": "markdown",
   "id": "8997ccec",
   "metadata": {},
   "source": [
    "#### 1. Omówione już sprawdzanie warunkiem czy x występuje w liście:"
   ]
  },
  {
   "cell_type": "markdown",
   "id": "d852d95a",
   "metadata": {},
   "source": [
    "x = 1\n",
    "if x in [1, 2, 3]:\n",
    "    print('ok')"
   ]
  },
  {
   "cell_type": "markdown",
   "id": "2f596eee",
   "metadata": {},
   "source": [
    "#### 2. Omówione już sprawdzanie warunkiem czy x występuje w liście:"
   ]
  },
  {
   "cell_type": "code",
   "execution_count": 15,
   "id": "1869f5c9",
   "metadata": {},
   "outputs": [
    {
     "name": "stdout",
     "output_type": "stream",
     "text": [
      "ok\n"
     ]
    }
   ],
   "source": [
    "# No, listy jak wszystko można też porównywać:\n",
    "lista_a = [1, 2]\n",
    "lista_b = [1, 2]\n",
    "if lista_a == lista_b:\n",
    "    print('ok')"
   ]
  },
  {
   "cell_type": "markdown",
   "id": "9bd81e22",
   "metadata": {},
   "source": [
    "#### 3. Iterowanie po listach. Będzie szerzej omówione w dziale pętli.\n"
   ]
  },
  {
   "cell_type": "code",
   "execution_count": null,
   "id": "8251c80d",
   "metadata": {},
   "outputs": [],
   "source": [
    "# Pojedyńcze:\n",
    "for i in [1, 2, 3]:\n",
    "    print(i)\n",
    "\n",
    "# Podwójne, potrójne:\n",
    "for i in [1, 2, 3]:\n",
    "    for j in ['a', 'b', 'c']:\n",
    "        for z in ['xD', '^_^', ':O']:\n",
    "            print(i, j, z)"
   ]
  },
  {
   "cell_type": "markdown",
   "id": "a1ff3201",
   "metadata": {},
   "source": [
    "#### 4. Enumerate\n",
    "\n",
    "Listę można też ponumerować. Będziemy o tym zaraz mówić przy okazji indexów.\n"
   ]
  },
  {
   "cell_type": "code",
   "execution_count": 24,
   "id": "dbf39204",
   "metadata": {},
   "outputs": [
    {
     "name": "stdout",
     "output_type": "stream",
     "text": [
      "Ponumerowana lista enumerate(lista): [(0, 'a'), (1, 'b'), (2, 'c')] Typu: <class 'enumerate'>\n",
      "Enumerate jako lista: list(enumerate(lista)): [(0, 'a'), (1, 'b'), (2, 'c')] Typu: <class 'list'>\n"
     ]
    }
   ],
   "source": [
    "lista = ['a', 'b', 'c']\n",
    "print('Ponumerowana lista enumerate(lista):', list(enumerate(lista)), 'Typu:', type(enumerate(lista)))\n",
    "print('Enumerate jako lista: list(enumerate(lista)):',list(enumerate(lista)), 'Typu:', type(list(enumerate(lista))))\n",
    "# Teraz jest to lista tupli. [(),(),()]\n",
    "# Nie przejmuj się tym narazie. Potem to omówimy, wróć do tego po tym,\n",
    "# Jak zrobisz klocek z pętlami (for loops) i spójrz na to znowu. \n",
    "# Wszystko wyda się wiele jaśniejsze."
   ]
  },
  {
   "cell_type": "markdown",
   "id": "0555c598",
   "metadata": {},
   "source": [
    "#### 5. Zip"
   ]
  },
  {
   "cell_type": "code",
   "execution_count": 25,
   "id": "7153e8c2",
   "metadata": {},
   "outputs": [],
   "source": [
    "# ZIP, złączanie 2 list.\n",
    "numbers = [1, 2, 3, 5, 7]\n",
    "letters = ['a', 'b', 'c']\n",
    "z = zip(numbers, letters)"
   ]
  },
  {
   "cell_type": "markdown",
   "id": "d5668072",
   "metadata": {},
   "source": [
    "#### Dla średnio zaawansowanych"
   ]
  },
  {
   "cell_type": "markdown",
   "id": "1b462e1c",
   "metadata": {},
   "source": [
    "#### 6. List comperhension:\n",
    "\n",
    "Chociaż jest to także element iterowania po listach omówionego wyżej.\n",
    "\n",
    "Czyli np. daj mi każdy element z listy 1 który jest mniejszy od 3:"
   ]
  },
  {
   "cell_type": "code",
   "execution_count": null,
   "id": "cd1aeb01",
   "metadata": {},
   "outputs": [],
   "source": [
    "lista_1 = [1,2,3,4,5,6,7]\n",
    "lista_2 = []\n",
    "for i in lista_1:\n",
    "    if i < 3: # u\n",
    "        lista_2.append(i)\n",
    "print(lista_2)"
   ]
  },
  {
   "cell_type": "code",
   "execution_count": null,
   "id": "c05c1233",
   "metadata": {},
   "outputs": [],
   "source": [
    "# Powyższy kod da się zrealizować w 1 linii:\n",
    "lista_2 = [i for i in [1,2,3,4,5,6,7] if i < 3] # u\n",
    "print(lista_2)"
   ]
  },
  {
   "cell_type": "code",
   "execution_count": null,
   "id": "5ada2879",
   "metadata": {},
   "outputs": [],
   "source": [
    "# Albo daj mi listę tych elementów z listy 1 które wystepują w liście 2 jako nową listę.\n",
    "lista_1 = ['a', 'b', 'c']\n",
    "lista_2 = ['a','b']\n",
    "lista_3 = []\n",
    "for i in lista_1:\n",
    "    if i in lista_2:\n",
    "        lista_3.append(i)\n",
    "print(lista_3)"
   ]
  },
  {
   "cell_type": "code",
   "execution_count": null,
   "id": "b5de437d",
   "metadata": {},
   "outputs": [],
   "source": [
    "# Powyższy kod można zawężyć do 1 linii. \n",
    "lista_2 = [i for i in ['a', 'b', 'c'] if i in ['a','b']]\n",
    "print(lista_2)"
   ]
  },
  {
   "cell_type": "code",
   "execution_count": null,
   "id": "a61e740a",
   "metadata": {},
   "outputs": [],
   "source": [
    "# Ten jednolinijkowy kod porównujący obie listy to właśnie list comperhension.\n",
    "# Są różne odmiany. Będziemy o nich w przyszłości mówić."
   ]
  },
  {
   "cell_type": "markdown",
   "id": "bfefd275",
   "metadata": {},
   "source": [
    "#### 7. Filter.\n",
    "\n",
    "\n",
    "Filter bierze listę i filtruje jej używając funkcji.\n",
    "\n",
    "Jak to nie jest dla Ciebie narazie zrozumiałe, to wszystko idzie według planu.\n",
    "\n",
    "Będziemu omawiać to potem. Wróć tutaj za jakiś czas :) ale rzuć okiem, jakie to ładne:\n"
   ]
  },
  {
   "cell_type": "code",
   "execution_count": null,
   "id": "4c7f4975",
   "metadata": {},
   "outputs": [],
   "source": [
    "def c(n):\n",
    "    if n % 2 == 0:\n",
    "        return True\n",
    "    return False\n",
    "\n",
    "x = [1, 2, 3, 4]\n",
    "print(x)\n",
    "x = list(filter(c, x))\n",
    "print(x)"
   ]
  },
  {
   "cell_type": "markdown",
   "id": "24246874",
   "metadata": {},
   "source": [
    "#### 8. Map"
   ]
  },
  {
   "cell_type": "code",
   "execution_count": 27,
   "id": "3eda4839",
   "metadata": {},
   "outputs": [
    {
     "name": "stdout",
     "output_type": "stream",
     "text": [
      "[2, 4, 6, 8]\n"
     ]
    }
   ],
   "source": [
    "# map() function returns a map object(which is an iterator) of the results after applying the given function to each item of a given iterable (list, tuple etc.)\n",
    "# map(fun, iter)\n",
    "\n",
    "def addition(n):\n",
    "    return n + n\n",
    "numbers = (1, 2, 3, 4)\n",
    "result = map(addition, numbers)\n",
    "print(list(result))"
   ]
  },
  {
   "cell_type": "markdown",
   "id": "37255fd7",
   "metadata": {},
   "source": [
    "#### 9. reduce()"
   ]
  },
  {
   "cell_type": "code",
   "execution_count": 29,
   "id": "55f51322",
   "metadata": {},
   "outputs": [
    {
     "ename": "NameError",
     "evalue": "name 'TBD' is not defined",
     "output_type": "error",
     "traceback": [
      "\u001b[0;31m---------------------------------------------------------------------------\u001b[0m",
      "\u001b[0;31mNameError\u001b[0m                                 Traceback (most recent call last)",
      "\u001b[0;32m/tmp/ipykernel_643639/3210414468.py\u001b[0m in \u001b[0;36m<module>\u001b[0;34m\u001b[0m\n\u001b[0;32m----> 1\u001b[0;31m \u001b[0mTBD\u001b[0m\u001b[0;34m\u001b[0m\u001b[0;34m\u001b[0m\u001b[0m\n\u001b[0m",
      "\u001b[0;31mNameError\u001b[0m: name 'TBD' is not defined"
     ]
    }
   ],
   "source": [
    "TBD"
   ]
  },
  {
   "cell_type": "markdown",
   "id": "268a667d",
   "metadata": {},
   "source": [
    "#### 10. Itertools\n",
    "\n",
    "Doskonała biblioteka do operacji na listach: itertools i zaawansowane metody pracy na listach.\n",
    "\n",
    "Tę biblioteką narazie się nie przejmujcie, są wiele pilniejsze tematy :)\n",
    "\n",
    "link do dokumentacji."
   ]
  },
  {
   "cell_type": "code",
   "execution_count": 28,
   "id": "5f0c7c3b",
   "metadata": {},
   "outputs": [],
   "source": [
    "import itertools"
   ]
  },
  {
   "cell_type": "code",
   "execution_count": null,
   "id": "b8d1b3e0",
   "metadata": {},
   "outputs": [],
   "source": []
  },
  {
   "cell_type": "code",
   "execution_count": null,
   "id": "069bd04e",
   "metadata": {},
   "outputs": [],
   "source": [
    "# Bez zmiennej.\n",
    "- slice\n",
    "- reverse\n",
    "- index ?"
   ]
  }
 ],
 "metadata": {
  "kernelspec": {
   "display_name": "Python 3 (ipykernel)",
   "language": "python",
   "name": "python3"
  },
  "language_info": {
   "codemirror_mode": {
    "name": "ipython",
    "version": 3
   },
   "file_extension": ".py",
   "mimetype": "text/x-python",
   "name": "python",
   "nbconvert_exporter": "python",
   "pygments_lexer": "ipython3",
   "version": "3.8.10"
  }
 },
 "nbformat": 4,
 "nbformat_minor": 5
}
